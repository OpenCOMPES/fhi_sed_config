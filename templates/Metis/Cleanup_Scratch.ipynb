{
 "cells": [
  {
   "cell_type": "markdown",
   "id": "8ad4167a-e4e7-498d-909a-c04da9f177ed",
   "metadata": {
    "tags": []
   },
   "source": [
    "# This template can be used to clean up data from the scratch drive /scratch/localDataStore\n",
    "The script iteratively removes the runs that have been accessed the longest time ago."
   ]
  },
  {
   "cell_type": "code",
   "execution_count": null,
   "id": "fb045e17-fa89-4c11-9d51-7f06e80d96d5",
   "metadata": {
    "tags": []
   },
   "outputs": [],
   "source": [
    "%load_ext autoreload\n",
    "%autoreload 2\n",
    "\n",
    "import sed\n",
    "# create sed processor\n",
    "sp = sed.SedProcessor(verbose=True)"
   ]
  },
  {
   "cell_type": "markdown",
   "id": "ef4a9556",
   "metadata": {},
   "source": [
    "## Repeatedly run the next cell to remove data from scratch"
   ]
  },
  {
   "cell_type": "code",
   "execution_count": null,
   "id": "9ae317bb-6eee-472b-9ba7-a3374b785867",
   "metadata": {},
   "outputs": [],
   "source": [
    "sp.ct.cleanup_oldest_scan()"
   ]
  },
  {
   "cell_type": "code",
   "execution_count": null,
   "id": "54a89e74-c71e-471c-b71b-a55fa1263e17",
   "metadata": {},
   "outputs": [],
   "source": []
  }
 ],
 "metadata": {
  "interpreter": {
   "hash": "728003ee06929e5fa5ff815d1b96bf487266025e4b7440930c6bf4536d02d243"
  },
  "kernelspec": {
   "display_name": "Python 3 (ipykernel)",
   "language": "python",
   "name": "python3"
  },
  "language_info": {
   "codemirror_mode": {
    "name": "ipython",
    "version": 3
   },
   "file_extension": ".py",
   "mimetype": "text/x-python",
   "name": "python",
   "nbconvert_exporter": "python",
   "pygments_lexer": "ipython3",
   "version": "3.12.9"
  }
 },
 "nbformat": 4,
 "nbformat_minor": 5
}
