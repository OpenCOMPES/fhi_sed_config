{
 "cells": [
  {
   "cell_type": "markdown",
   "id": "b029c523-ee88-487c-9e3b-e75cf7e5dbcd",
   "metadata": {},
   "source": [
    "# <font color='red'>COPY THIS FILE TO THE ROOT OF THE UPLOAD, AND RENAME IT.</font>"
   ]
  },
  {
   "cell_type": "markdown",
   "id": "8ad4167a-e4e7-498d-909a-c04da9f177ed",
   "metadata": {
    "tags": []
   },
   "source": [
    "# Check scan consistency"
   ]
  },
  {
   "cell_type": "code",
   "execution_count": null,
   "id": "fddf2470",
   "metadata": {},
   "outputs": [],
   "source": [
    "# Path to the day folder containing the scan\n",
    "data_path = \"/mnt/pcshare/2025/2025_01\"\n",
    "# the runs to load for inspection\n",
    "runs = range(672, 674)"
   ]
  },
  {
   "cell_type": "code",
   "execution_count": null,
   "id": "fb045e17-fa89-4c11-9d51-7f06e80d96d5",
   "metadata": {
    "tags": []
   },
   "outputs": [],
   "source": [
    "%load_ext autoreload\n",
    "%autoreload 2\n",
    "import numpy as np\n",
    "import matplotlib.pyplot as plt\n",
    "import os\n",
    "\n",
    "import sed\n",
    "\n",
    "%matplotlib widget"
   ]
  },
  {
   "cell_type": "markdown",
   "id": "42a6afaa-17dd-4637-ba75-a28c4ead1adf",
   "metadata": {},
   "source": [
    "# Load Data"
   ]
  },
  {
   "cell_type": "code",
   "execution_count": null,
   "id": "4e202cb2-25ac-46c3-9f77-cb729f5edd1d",
   "metadata": {},
   "outputs": [],
   "source": [
    "# Define an override config\n",
    "config = {}\n",
    "# Uncomment this line for data pre ~2020\n",
    "# config = {\"dataframe\": {\"tof_binning\": 4, \"adc_binning\": 4}}\n",
    "# Uncomment this line for data pre ~2024\n",
    "# config = {\"dataframe\": {\"tof_binning\": 2, \"adc_binning\": 4}}"
   ]
  },
  {
   "cell_type": "code",
   "execution_count": null,
   "id": "f1f82054",
   "metadata": {
    "tags": []
   },
   "outputs": [],
   "source": [
    "# create sed processor using the config file, and collect the meta data from the files:\n",
    "sp = sed.SedProcessor(folder=data_path, runs=runs, verbose=True)\n",
    "sp.add_jitter()"
   ]
  },
  {
   "cell_type": "code",
   "execution_count": null,
   "id": "acc73cc3",
   "metadata": {},
   "outputs": [],
   "source": [
    "# Inspect data in dataframe Columns:\n",
    "sp.view_event_histogram(dfpid=1)\n",
    "# Uncomment these lines if data range does not fit\n",
    "# axes = ['X', 'Y', 't', 'ADC']\n",
    "# bins = [100, 100, 100, 100]\n",
    "# ranges = [(0, 1800), (0, 1800), (135000, 155000), (0, 9000)]\n",
    "# sp.view_event_histogram(dfpid=1, axes=axes, bins=bins, ranges=ranges)"
   ]
  },
  {
   "cell_type": "code",
   "execution_count": null,
   "id": "ba5da06b",
   "metadata": {},
   "outputs": [],
   "source": [
    "# Plot of the count rate through the scan\n",
    "rate, secs = sp.loader.get_count_rate()\n",
    "plt.figure()\n",
    "plt.plot(secs, rate)"
   ]
  },
  {
   "cell_type": "code",
   "execution_count": null,
   "id": "b0faf67b",
   "metadata": {},
   "outputs": [],
   "source": [
    "# The time elapsed in the scan in hours\n",
    "sp.loader.get_elapsed_time()/60/60"
   ]
  },
  {
   "cell_type": "code",
   "execution_count": null,
   "id": "5259efca",
   "metadata": {},
   "outputs": [],
   "source": [
    "# Inspect the spectral evolution over the course of the run\n",
    "axes=[\"t\"]\n",
    "bins=[500]\n",
    "ranges=[(132000, 145000)]\n",
    "res = sp.compute(axes=axes, bins=bins, ranges=ranges, return_partitions=True)\n",
    "plt.figure()\n",
    "res.plot()"
   ]
  },
  {
   "cell_type": "code",
   "execution_count": null,
   "id": "d7aa5986",
   "metadata": {},
   "outputs": [],
   "source": []
  }
 ],
 "metadata": {
  "kernelspec": {
   "display_name": ".venv",
   "language": "python",
   "name": "python3"
  },
  "language_info": {
   "codemirror_mode": {
    "name": "ipython",
    "version": 3
   },
   "file_extension": ".py",
   "mimetype": "text/x-python",
   "name": "python",
   "nbconvert_exporter": "python",
   "pygments_lexer": "ipython3",
   "version": "3.10.16"
  }
 },
 "nbformat": 4,
 "nbformat_minor": 5
}
