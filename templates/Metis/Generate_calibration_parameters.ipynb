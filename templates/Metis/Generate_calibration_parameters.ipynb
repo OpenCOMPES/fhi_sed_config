{
 "cells": [
  {
   "cell_type": "markdown",
   "id": "ae1ba343-2267-4254-8fe9-5c251b247924",
   "metadata": {},
   "source": [
    "# <font color='red'>DO NOT MODIFY THIS FILE! MAKE A COPY</font>"
   ]
  },
  {
   "cell_type": "markdown",
   "id": "8ad4167a-e4e7-498d-909a-c04da9f177ed",
   "metadata": {
    "tags": []
   },
   "source": [
    "# Generation of Calibration parameters\n",
    "This template is meant for generating calibration parameters for a new experiment. It loads a representative scan into the sed package. Then, we run a conversion pipeline on it, containing steps for visualizing the channels, correcting image distortions, calibrating the momentum space, correcting for energy distortions and calibrating the energy axis. Finally, the data are binned in calibrated axes. These calibration parameters are stored to a config file in the same data folder, that can be used to analyze additional datasets of the same experiment."
   ]
  },
  {
   "cell_type": "code",
   "execution_count": null,
   "id": "fb045e17-fa89-4c11-9d51-7f06e80d96d5",
   "metadata": {
    "tags": []
   },
   "outputs": [],
   "source": [
    "%load_ext autoreload\n",
    "%autoreload 2\n",
    "import numpy as np\n",
    "import matplotlib.pyplot as plt\n",
    "\n",
    "import sed\n",
    "\n",
    "%matplotlib widget"
   ]
  },
  {
   "cell_type": "markdown",
   "id": "42a6afaa-17dd-4637-ba75-a28c4ead1adf",
   "metadata": {},
   "source": [
    "# Load Data"
   ]
  },
  {
   "cell_type": "code",
   "execution_count": null,
   "id": "34f46d54",
   "metadata": {
    "tags": []
   },
   "outputs": [],
   "source": [
    "# Path to the day folder containing the scan\n",
    "data_path = \"/mnt/pcshare/2025/2025_01/2025_01_09\"\n",
    "# the run to load for calibration\n",
    "run = 664"
   ]
  },
  {
   "cell_type": "code",
   "execution_count": null,
   "id": "51123ed7-4ff5-4891-956b-ec4650d75aa1",
   "metadata": {
    "tags": []
   },
   "outputs": [],
   "source": [
    "# Define an override config\n",
    "config = {}\n",
    "# Uncomment this line for data pre ~2020\n",
    "# config = {\"dataframe\": {\"tof_binning\": 2, \"adc_binning\": 2}}\n",
    "# Uncomment this line for data pre ~2024\n",
    "# config = {\"dataframe\": {\"tof_binning\": 2, \"adc_binning\": 2}}"
   ]
  },
  {
   "cell_type": "code",
   "execution_count": null,
   "id": "f1f82054",
   "metadata": {
    "tags": []
   },
   "outputs": [],
   "source": [
    "# create sed processor using the config file:\n",
    "sp = sed.SedProcessor(folder=data_path, runs=run, verbose=True)\n",
    "# Apply jittering to X, Y, t, ADC columns. \n",
    "# Columns are defined in the config, or can be provided as list.\n",
    "sp.add_jitter()"
   ]
  },
  {
   "cell_type": "markdown",
   "id": "02e756a8-1079-4746-995c-4d41692c0405",
   "metadata": {},
   "source": [
    "## Diagnostics"
   ]
  },
  {
   "cell_type": "code",
   "execution_count": null,
   "id": "0a0d336b",
   "metadata": {
    "tags": []
   },
   "outputs": [],
   "source": [
    "# Plot of the count rate through the scan\n",
    "rate, secs = sp.loader.get_count_rate()\n",
    "plt.figure()\n",
    "plt.plot(secs, rate)"
   ]
  },
  {
   "cell_type": "code",
   "execution_count": null,
   "id": "dfb42777",
   "metadata": {
    "tags": []
   },
   "outputs": [],
   "source": [
    "# The time elapsed in the scan in hours\n",
    "sp.loader.get_elapsed_time()/60/60"
   ]
  },
  {
   "cell_type": "code",
   "execution_count": null,
   "id": "0df96cf8-ce48-4efc-8c13-39b57cbaf30e",
   "metadata": {
    "tags": []
   },
   "outputs": [],
   "source": [
    "# Inspect the spectral evolution over the course of the run\n",
    "axes=[\"t\"]\n",
    "bins=[500]\n",
    "ranges=[(135000, 155000)]\n",
    "res = sp.compute(axes=axes, bins=bins, ranges=ranges, return_partitions=True)\n",
    "plt.figure()\n",
    "res.plot()"
   ]
  },
  {
   "cell_type": "code",
   "execution_count": null,
   "id": "fb074f29",
   "metadata": {
    "tags": []
   },
   "outputs": [],
   "source": [
    "# Inspect data in dataframe Columns:\n",
    "sp.view_event_histogram(dfpid=1)\n",
    "# Uncomment these lines if data range does not fit\n",
    "# axes = ['X', 'Y', 't', 'ADC']\n",
    "# bins = [100, 100, 100, 100]\n",
    "# ranges = [(0, 1800), (0, 1800), (135000, 155000), (0, 9000)]\n",
    "# sp.view_event_histogram(dfpid=1, axes=axes, bins=bins, ranges=ranges)"
   ]
  },
  {
   "cell_type": "markdown",
   "id": "70aa4343",
   "metadata": {},
   "source": [
    "# Distortion correction and Momentum Calibration workflow\n",
    "### 1. step: \n",
    "Bin and load part of the dataframe in detector coordinates, and choose energy plane where high-symmetry points can well be identified. Either use the interactive tool, or pre-select the range:"
   ]
  },
  {
   "cell_type": "code",
   "execution_count": null,
   "id": "76bf8aad",
   "metadata": {
    "tags": []
   },
   "outputs": [],
   "source": [
    "sp.bin_and_load_momentum_calibration(df_partitions=100, plane=134, width=5)\n",
    "# Uncomment for auto-selecting a plane\n",
    "# sp.bin_and_load_momentum_calibration(df_partitions=100, plane=33, width=10, apply=True)"
   ]
  },
  {
   "cell_type": "markdown",
   "id": "fee3ca76",
   "metadata": {},
   "source": [
    "### 2. Step:\n",
    "Next, we select a number of features corresponding to the rotational symmetry of the material, plus the center. These can either be auto-detected (for well-isolated points), or provided as a list (these can be read-off the graph in the cell above).\n",
    "These are then symmetrized according to the rotational symmetry, and a spline-warping correction for the x/y coordinates is calculated, which corrects for any geometric distortions from the perfect n-fold rotational symmetry."
   ]
  },
  {
   "cell_type": "code",
   "execution_count": null,
   "id": "fd9666c5",
   "metadata": {
    "tags": []
   },
   "outputs": [],
   "source": [
    "# Manual selection: Use a GUI tool to select peaks:\n",
    "sp.define_features(rotation_symmetry=6, include_center=True)\n",
    "# Uncomment to provide a list of features\n",
    "# features = np.array([[203.2, 341.96], [299.16, 345.32], [350.25, 243.70], [304.38, 149.88], [199.52, 152.48], [154.28, 242.27], [248.29, 248.62]])\n",
    "# sp.define_features(features=features, rotation_symmetry=6, include_center=True, apply=True)\n",
    "# Uncomment to autodetect isolated features\n",
    "# Autodetect: Uses the DAOStarFinder routine to locate maxima. \n",
    "# Parameters are: \n",
    "#   fwhm: Full-width at half maximum of peaks.\n",
    "#   sigma: Number of standard deviations above the mean value of the image peaks must have.\n",
    "#   sigma_radius: number of standard deviations around a peak that peaks are fitted\n",
    "# sp.define_features(rotation_symmetry=6, auto_detect=True, include_center=True, fwhm=10, sigma=12, sigma_radius=4, apply=True)"
   ]
  },
  {
   "cell_type": "markdown",
   "id": "f7519ff8",
   "metadata": {},
   "source": [
    "### 3. Step: \n",
    "Generate nonlinear correction using splinewarp algorithm. If no landmarks have been defined in previous step, default parameters from the config are used"
   ]
  },
  {
   "cell_type": "code",
   "execution_count": null,
   "id": "d27cd7a4",
   "metadata": {
    "tags": []
   },
   "outputs": [],
   "source": [
    "# Generate Spline Warp distortin corection\n",
    "sp.generate_splinewarp(include_center=True)\n",
    "# Uncoment if no central point is provided\n",
    "# sp.generate_splinewarp(include_center=false)"
   ]
  },
  {
   "cell_type": "markdown",
   "id": "4211ac21",
   "metadata": {
    "tags": []
   },
   "source": [
    "#### Optional (Step 3a): \n",
    "Save distortion correction parameters to configuration file in current data folder: "
   ]
  },
  {
   "cell_type": "code",
   "execution_count": null,
   "id": "7f32988f",
   "metadata": {
    "tags": []
   },
   "outputs": [],
   "source": [
    "# Save generated distortion correction parameters for later reuse\n",
    "sp.save_splinewarp()"
   ]
  },
  {
   "cell_type": "markdown",
   "id": "b5e69ffa",
   "metadata": {},
   "source": [
    "### 4. Step:\n",
    "To adjust scaling, position and orientation of the corrected momentum space image, you can apply further affine transformations to the distortion correction field. Here, first a postential scaling is applied, next a translation, and finally a rotation around the center of the image (defined via the config). One can either use an interactive tool, or provide the adjusted values and apply them directly."
   ]
  },
  {
   "cell_type": "code",
   "execution_count": null,
   "id": "62abfa41",
   "metadata": {
    "tags": []
   },
   "outputs": [],
   "source": [
    "sp.pose_adjustment(xtrans=8, ytrans=10, angle=2)\n",
    "# Uncomment for automatic selection\n",
    "# sp.pose_adjustment(xtrans=14, ytrans=18, angle=2, apply=True)"
   ]
  },
  {
   "cell_type": "markdown",
   "id": "69721b05-8e87-4e93-90c0-3023368a3909",
   "metadata": {
    "tags": []
   },
   "source": [
    "#### Optional (Step 4a): \n",
    "Save transformation parameters to configuration file in current data folder: "
   ]
  },
  {
   "cell_type": "code",
   "execution_count": null,
   "id": "5ec287e9-888c-4662-83b0-103924bb7a35",
   "metadata": {
    "tags": []
   },
   "outputs": [],
   "source": [
    "# Save transformation parameters for later reuse\n",
    "sp.save_transformations()"
   ]
  },
  {
   "cell_type": "markdown",
   "id": "a78a68e9",
   "metadata": {},
   "source": [
    "### 5. Step:\n",
    "Finally, the momentum correction is applied to the dataframe, and corresponding meta data are stored"
   ]
  },
  {
   "cell_type": "code",
   "execution_count": null,
   "id": "845f002d",
   "metadata": {
    "tags": []
   },
   "outputs": [],
   "source": [
    "sp.apply_momentum_correction()"
   ]
  },
  {
   "cell_type": "markdown",
   "id": "d9810488",
   "metadata": {},
   "source": [
    "## Momentum calibration workflow\n",
    "### 1. Step:\n",
    "First, the momentum scaling needs to be calibtrated. Either, one can provide the coordinates of one point outside the center, and provide its distane to the Brillouin zone center (which is assumed to be located in the center of the image), one can specify two points on the image and their distance (where the 2nd point marks the BZ center),or one can provide absolute k-coordinates of two distinct momentum points.\n",
    "\n",
    "If no points are provided, an interactive tool is created. Here, left mouse click selectes the off-center point (brillouin_zone_cetnered=True) or toggle-selects the off-center and center point."
   ]
  },
  {
   "cell_type": "code",
   "execution_count": null,
   "id": "a358f07d",
   "metadata": {
    "tags": []
   },
   "outputs": [],
   "source": [
    "# The momentum distance of the reference feature from the gamma point\n",
    "k_distance = 2*np.pi/6.4 # k-distance of the second Gamma-point in a hexagonal Brillouin zone\n",
    "sp.calibrate_momentum_axes(k_distance = k_distance)\n",
    "# uncomment to provide coordinates and apply automatically\n",
    "# point_a = [308, 345]\n",
    "# sp.calibrate_momentum_axes(point_a=point_a, k_distance = k_distance, apply=True)\n",
    "# Uncomment to use non-equidistant scales for kx and ky\n",
    "# point_b = [247, 249]\n",
    "# sp.calibrate_momentum_axes(point_a=point_a, point_b = point_b, k_coord_a = [.5, 1.1], k_coord_b = [1.3, 0], equiscale=False"
   ]
  },
  {
   "cell_type": "markdown",
   "id": "1a3697b1",
   "metadata": {},
   "source": [
    "#### Optional (Step 1a): \n",
    "Save momentum calibration parameters to configuration file in current data folder: "
   ]
  },
  {
   "cell_type": "code",
   "execution_count": null,
   "id": "86bedfa7",
   "metadata": {
    "tags": []
   },
   "outputs": [],
   "source": [
    "# Save generated momentum calibration parameters for later reuse\n",
    "sp.save_momentum_calibration()"
   ]
  },
  {
   "cell_type": "markdown",
   "id": "c2f8a513",
   "metadata": {},
   "source": [
    "### 2. Step:\n",
    "Now, the distortion correction and momentum calibration needs to be applied to the dataframe."
   ]
  },
  {
   "cell_type": "code",
   "execution_count": null,
   "id": "f9ae5066",
   "metadata": {
    "tags": []
   },
   "outputs": [],
   "source": [
    "sp.apply_momentum_calibration()"
   ]
  },
  {
   "cell_type": "markdown",
   "id": "0bce2388",
   "metadata": {},
   "source": [
    "# Energy Correction (optional)\n",
    "The purpose of the energy correction is to correct for any momentum-dependent distortion of the energy axis, e.g. from geometric effects in the flight tube, or from space charge"
   ]
  },
  {
   "cell_type": "markdown",
   "id": "5289de59",
   "metadata": {},
   "source": [
    "### 1st step:\n",
    "Here, one can select the functional form to be used, and adjust its parameters. The binned data used for the momentum calibration is plotted around the Fermi energy (defined by tof_fermi), and the correction function is plotted ontop. Possible correction functions are: \"sperical\" (parameter: diameter), \"Lorentzian\" (parameter: gamma), \"Gaussian\" (parameter: sigma), and \"Lorentzian_asymmetric\" (parameters: gamma, amplitude2, gamma2).\n",
    "\n",
    "One can either use an interactive alignment tool, or provide parameters directly."
   ]
  },
  {
   "cell_type": "code",
   "execution_count": null,
   "id": "72c6c8f9",
   "metadata": {
    "tags": []
   },
   "outputs": [],
   "source": [
    "# Use this for lorentzian-type correction. Change tof_fermi if the refence line is not at EF.\n",
    "sp.adjust_energy_correction(amplitude=2.5, center=(730, 730), gamma=920, tof_fermi = 133020)\n",
    "# Use values similar to this for pre-2020 data\n",
    "# sp.adjust_energy_correction(amplitude=2.5, center=(730, 730), gamma=920, tof_fermi = 66200)"
   ]
  },
  {
   "cell_type": "markdown",
   "id": "e43fbf33",
   "metadata": {},
   "source": [
    "#### Optional (Step 1a): \n",
    "Save energy correction parameters to configuration file in current data folder: "
   ]
  },
  {
   "cell_type": "code",
   "execution_count": null,
   "id": "7699e690",
   "metadata": {
    "tags": []
   },
   "outputs": [],
   "source": [
    "# Save generated energy correction parameters for later reuse\n",
    "sp.save_energy_correction()"
   ]
  },
  {
   "cell_type": "markdown",
   "id": "41a6a3e6",
   "metadata": {},
   "source": [
    "### 2. Step\n",
    "After adjustment, the energy correction is directly applied to the TOF axis."
   ]
  },
  {
   "cell_type": "code",
   "execution_count": null,
   "id": "eb1e2bee",
   "metadata": {
    "tags": []
   },
   "outputs": [],
   "source": [
    "sp.apply_energy_correction()"
   ]
  },
  {
   "cell_type": "markdown",
   "id": "8b571b4c",
   "metadata": {},
   "source": [
    "# 3. Energy calibration\n",
    "For calibrating the energy axis, a set of data taken at different bias voltages around the value where the measurement was taken is required."
   ]
  },
  {
   "cell_type": "markdown",
   "id": "6bc28642",
   "metadata": {},
   "source": [
    "### 1. Step:\n",
    "In a first step, the data are loaded, binned along the TOF dimension, and normalized. The used bias voltages can be either provided, or read from attributes in the source files if present."
   ]
  },
  {
   "cell_type": "code",
   "execution_count": null,
   "id": "9f44a586",
   "metadata": {
    "tags": []
   },
   "outputs": [],
   "source": [
    "# Load energy calibration EDCs\n",
    "import glob\n",
    "# List of runs with energy calibration\n",
    "calib_path = \"/mnt/pcshare/2024/2024_12/2024_12_17\"\n",
    "scans = np.arange(636, 644)\n",
    "files = []\n",
    "for scan in scans:\n",
    "    files.append(glob.glob(calib_path + \"/../**/Scan\" + str(scan).zfill(4) + \"_1.h5\", recursive=True)[0])\n",
    "sp.load_bias_series(data_files=files, normalize=True)\n",
    "# Uncomment if bias voltages cannot be automatically read (pre-2020 data, or wrong information in files)\n",
    "# biases = range(14,21)\n",
    "# sp.load_bias_series(data_files=files, biases=biases, normalize=True)"
   ]
  },
  {
   "cell_type": "markdown",
   "id": "314a79c8",
   "metadata": {},
   "source": [
    "### 2. Step:\n",
    "Next, the same peak or feature needs to be selected in each curve. For this, one needs to define \"ranges\" for each curve, within which the peak of interest is located. One can either provide these ranges manually, or provide one range for a \"reference\" curve, and infer the ranges for the other curves using a dynamic time warping algorithm."
   ]
  },
  {
   "cell_type": "code",
   "execution_count": null,
   "id": "2f843244",
   "metadata": {
    "tags": []
   },
   "outputs": [],
   "source": [
    "# Option 1 = specify the ranges containing a common feature (e.g an equivalent peak) for all bias scans\n",
    "# rg = [(129031.03103103103, 129621.62162162163), (129541.54154154155, 130142.14214214214), (130062.06206206206, 130662.66266266267), (130612.61261261262, 131213.21321321322), (131203.20320320321, 131803.8038038038), (131793.7937937938, 132384.38438438438), (132434.43443443443, 133045.04504504506), (133105.10510510512, 133715.71571571572), (133805.8058058058, 134436.43643643643), (134546.54654654654, 135197.1971971972)]\n",
    "# sp.find_bias_peaks(ranges=rg, infer_others=False)\n",
    "# Option 2 = specify the range for one curve and infer the others\n",
    "# This will open an interactive tool to select the correct ranges for the curves.\n",
    "# IMPORTANT: Don't choose the range too narrow about a peak, and choose a refid \n",
    "# somewhere in the middle or towards larger biases!\n",
    "rg = (132000, 136000)\n",
    "sp.find_bias_peaks(ranges=rg, ref_id=5, infer_others=True)"
   ]
  },
  {
   "cell_type": "markdown",
   "id": "b2638818",
   "metadata": {},
   "source": [
    "### 3. Step:\n",
    "Next, the detected peak positions and bias voltages are used to determine the calibration function. This can be either done by fitting the functional form d^2/(t-t0)^2 via lmfit (\"lmfit\"), or using a polynomial approxiamtion (\"lstsq\" or \"lsqr\"). Here, one can also define a reference id, and a reference energy. Those define the absolute energy position of the feature used for calibration in the \"reference\" trace, at the bias voltage where the final measurement has been performed. The energy scale can be either \"kientic\" (decreasing energy with increasing TOF), or \"binding\" (increasing energy with increasing TOF).\n",
    "\n",
    "After calculating the calibration, all traces corrected with the calibration are plotted ontop of each other, the calibration function together with the extracted features is plotted."
   ]
  },
  {
   "cell_type": "code",
   "execution_count": null,
   "id": "22e15f5d",
   "metadata": {
    "tags": []
   },
   "outputs": [],
   "source": [
    "# use the refid of the bias that the measurement was taken at\n",
    "# Eref can be used to set the absolute energy (kinetic energy, E-EF) of the feature used for energy calibration (if known)\n",
    "Eref=-1\n",
    "# the lmfit method uses a fit of (d/(t-t0))**2 to determine the energy calibration\n",
    "sp.calibrate_energy_axis(ref_energy=Eref, energy_scale=\"kinetic\", method=\"lmfit\")"
   ]
  },
  {
   "cell_type": "markdown",
   "id": "df63c6c7",
   "metadata": {},
   "source": [
    "#### Optional (Step 3a): \n",
    "Save energy calibration parameters to configuration file in current data folder: "
   ]
  },
  {
   "cell_type": "code",
   "execution_count": null,
   "id": "b870293c",
   "metadata": {
    "tags": []
   },
   "outputs": [],
   "source": [
    "# Save generated energy calibration parameters for later reuse\n",
    "sp.save_energy_calibration()"
   ]
  },
  {
   "cell_type": "markdown",
   "id": "563709c7",
   "metadata": {},
   "source": [
    "### 4. Step:\n",
    "Finally, the the energy axis is added to the dataframe."
   ]
  },
  {
   "cell_type": "code",
   "execution_count": null,
   "id": "c470ffd9",
   "metadata": {
    "tags": []
   },
   "outputs": [],
   "source": [
    "sp.append_energy_axis()"
   ]
  },
  {
   "cell_type": "markdown",
   "id": "b2d8cdf9",
   "metadata": {},
   "source": [
    "# 4. Delay calibration:\n",
    "The delay axis is calculated from the ADC input column based on the provided delay range. ALternatively, the delay scan range can also be extracted from attributes inside a source file, if present."
   ]
  },
  {
   "cell_type": "code",
   "execution_count": null,
   "id": "0943d349",
   "metadata": {
    "tags": []
   },
   "outputs": [],
   "source": [
    "# sp.calibrate_delay_axis(preview=True)\n",
    "# Uncomment if delay range cannot be read from file\n",
    "delay_range = (-0.2, 0.5)\n",
    "sp.calibrate_delay_axis(delay_range=delay_range, preview=True)"
   ]
  },
  {
   "cell_type": "markdown",
   "id": "d9d0b018",
   "metadata": {},
   "source": [
    "# 5. Visualization of calibrated histograms\n",
    "With all calibrated axes present in the dataframe, we can visualize the corresponding histograms, and determine the respective binning ranges"
   ]
  },
  {
   "cell_type": "code",
   "execution_count": null,
   "id": "c330da64",
   "metadata": {
    "tags": []
   },
   "outputs": [],
   "source": [
    "axes = ['kx', 'ky', 'energy', 'delay']\n",
    "ranges = [[-3, 3], [-3, 3], [-6, 2], [-.2, 0.5]]\n",
    "sp.view_event_histogram(dfpid=1, axes=axes, ranges=ranges)"
   ]
  },
  {
   "cell_type": "markdown",
   "id": "6902fd56-1456-4da6-83a4-0f3f6b831eb6",
   "metadata": {},
   "source": [
    "# Define the binning ranges and compute calibrated data volume"
   ]
  },
  {
   "cell_type": "code",
   "execution_count": null,
   "id": "a7601cd7-cd51-40a9-8fc7-8b7d32ff15d0",
   "metadata": {
    "tags": []
   },
   "outputs": [],
   "source": [
    "axes = ['kx', 'ky', 'energy', 'delay']\n",
    "bins = [200, 200, 400, 100]\n",
    "ranges = [[-2, 2], [-2, 2], [-3, 2], [-.2, 0.5]]\n",
    "res = sp.compute(bins=bins, axes=axes, ranges=ranges)\n",
    "# Uncomment any of the two lines below to only bin a fraction of the data\n",
    "# res = sp.compute(bins=bins, axes=axes, ranges=ranges, df_partitions=np.arange(10, len(sp.files)))\n",
    "# res = sp.compute(bins=bins, axes=axes, ranges=ranges, df_partitions=100)\n",
    "# Uncomment to correct for the acquision time per delay\n",
    "# res = sp.compute(bins=bins, axes=axes, ranges=ranges, normalize_to_acquisition_time=\"delay\")"
   ]
  },
  {
   "cell_type": "markdown",
   "id": "523794dc",
   "metadata": {},
   "source": [
    "# Some visualization:"
   ]
  },
  {
   "cell_type": "code",
   "execution_count": null,
   "id": "99d7d136-b677-4c16-bc8f-31ba8216579c",
   "metadata": {
    "tags": []
   },
   "outputs": [],
   "source": [
    "fig, axs = plt.subplots(4, 1, figsize=(6, 18), constrained_layout=True)\n",
    "res.loc[{'energy':slice(-.1, 0)}].sum(axis=(2,3)).T.plot(ax=axs[0])\n",
    "res.loc[{'ky':slice(-.8, -.5)}].sum(axis=(1,3)).T.plot(ax=axs[1])\n",
    "res.loc[{'kx':slice(-.2, .2)}].sum(axis=(0,3)).T.plot(ax=axs[2])\n",
    "res.loc[{'ky':slice(-.8, -.5), 'energy':slice(.5, 2)}].sum(axis=(0,1)).plot(ax=axs[3])"
   ]
  },
  {
   "cell_type": "code",
   "execution_count": null,
   "id": "37bc5819-ac41-40b0-810c-724e89c473a7",
   "metadata": {
    "tags": []
   },
   "outputs": [],
   "source": [
    "# save to hdf5\n",
    "sp.save(f\"Scan{run}_binned.h5\")"
   ]
  },
  {
   "cell_type": "code",
   "execution_count": null,
   "id": "9ae317bb-6eee-472b-9ba7-a3374b785867",
   "metadata": {},
   "outputs": [],
   "source": []
  }
 ],
 "metadata": {
  "kernelspec": {
   "display_name": ".venv",
   "language": "python",
   "name": "python3"
  },
  "language_info": {
   "codemirror_mode": {
    "name": "ipython",
    "version": 3
   },
   "file_extension": ".py",
   "mimetype": "text/x-python",
   "name": "python",
   "nbconvert_exporter": "python",
   "pygments_lexer": "ipython3",
   "version": "3.10.16"
  }
 },
 "nbformat": 4,
 "nbformat_minor": 5
}
