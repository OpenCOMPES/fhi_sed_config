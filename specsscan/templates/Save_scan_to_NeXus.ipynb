{
 "cells": [
  {
   "cell_type": "markdown",
   "metadata": {},
   "source": [
    "# <font color='red'>DO NOT MODIFY THIS FILE! MAKE A COPY</font>"
   ]
  },
  {
   "cell_type": "markdown",
   "metadata": {},
   "source": [
    "## Template for loading trARPES data from the Phoibos detector at FHI Berlin.\n",
    "The data are loaded as xarray following a conversion to the [NeXus format](https://manual.nexusformat.org/classes/contributed_definitions/NXmpes.html#nxmpes) using the [Nomad Parser Nexus](https://github.com/nomad-coe/nomad-parser-nexus)."
   ]
  },
  {
   "cell_type": "code",
   "execution_count": null,
   "metadata": {},
   "outputs": [],
   "source": [
    "# Provide the scan to load\n",
    "scan = 12000"
   ]
  },
  {
   "cell_type": "markdown",
   "metadata": {},
   "source": [
    "First, the SpecsScan class is imported which has the scan loader as its class method."
   ]
  },
  {
   "cell_type": "code",
   "execution_count": null,
   "metadata": {
    "tags": []
   },
   "outputs": [],
   "source": [
    "%load_ext autoreload\n",
    "%autoreload 2\n",
    "from specsscan import SpecsScan\n",
    "import matplotlib.pyplot as plt"
   ]
  },
  {
   "cell_type": "markdown",
   "metadata": {},
   "source": [
    "Here, a SpecsScan class instance is created as per the configuration provided in [config.yaml](../tests/data/config.yaml). The user may set the entries in config.yaml file, for example, the data path and conversion parameters as per the requirements before creating this instance.\n",
    "\n",
    "The path may changed to point to the scan folder of the data of interest (for example, on a server drive)"
   ]
  },
  {
   "cell_type": "code",
   "execution_count": null,
   "metadata": {
    "tags": []
   },
   "outputs": [],
   "source": [
    "metadata = {}\n",
    "# Here, manual metadata can be added. Alternatively, they can come from an Electronic Lab Notebook below.\n",
    "# Uncomment for adding manual Metadata (delete \"\"\"-lines)\n",
    "\"\"\"\n",
    "#General\n",
    "#metadata['experiment_summary'] = 'Summar'\n",
    "metadata['entry_title'] = 'Title'\n",
    "#metadata['experiment_title'] = 'Exp Title'\n",
    "\n",
    "#User\n",
    "# Fill general parameters of NXuser\n",
    "#metadata['user0'] = {}\n",
    "#metadata['user0']['name'] = 'Laurenz Rettig'\n",
    "#metadata['user0']['role'] = 'Principal Investigator'\n",
    "#metadata['user0']['affiliation'] = 'Fritz Haber Institute of the Max Planck Society'\n",
    "#metadata['user0']['address'] = 'Faradayweg 4-6, 14195 Berlin'\n",
    "#metadata['user0']['email'] = 'rettig@fhi-berlin.mpg.de'\n",
    "\n",
    "metadata['instrument'] = {}\n",
    "# energy resolution\n",
    "metadata['instrument']['energy_resolution'] = 150.\n",
    "metadata['instrument']['electronanalyser'] = {}\n",
    "metadata['instrument']['electronanalyser']['energy_resolution'] = 120\n",
    "metadata['instrument']['electronanalyser']['angular_resolution'] = 0.2\n",
    "metadata['instrument']['electronanalyser']['spatial_resolution'] = 0.5\n",
    "\n",
    "#probe beam\n",
    "metadata['instrument']['beam']={}\n",
    "metadata['instrument']['beam']['probe']={}\n",
    "metadata['instrument']['beam']['probe']['incident_energy'] = 21.7\n",
    "metadata['instrument']['beam']['probe']['incident_energy_spread'] = 0.11\n",
    "metadata['instrument']['beam']['probe']['pulse_duration'] = 20.\n",
    "metadata['instrument']['beam']['probe']['frequency'] = 500.\n",
    "metadata['instrument']['beam']['probe']['incident_polarization'] = [1, 1, 0, 0] # p pol Stokes vector\n",
    "metadata['instrument']['beam']['probe']['extent'] = [80., 80.]\n",
    "#pump beam\n",
    "#metadata['instrument']['beam']['pump']={}\n",
    "#metadata['instrument']['beam']['pump']['incident_energy'] = 1.55\n",
    "#metadata['instrument']['beam']['pump']['incident_energy_spread'] = 0.08\n",
    "#metadata['instrument']['beam']['pump']['pulse_duration'] = 35.\n",
    "#metadata['instrument']['beam']['pump']['frequency'] = 500.\n",
    "#metadata['instrument']['beam']['pump']['incident_polarization'] = [1, -1, 0, 0] # s pol Stokes vector\n",
    "#metadata['instrument']['beam']['pump']['incident_wavelength'] = 800.\n",
    "#metadata['instrument']['beam']['pump']['average_power'] = 224.\n",
    "#metadata['instrument']['beam']['pump']['pulse_energy'] = metadata['instrument']['beam']['pump']['average_power']/metadata['instrument']['beam']['pump']['frequency']#µJ\n",
    "#metadata['instrument']['beam']['pump']['extent'] = [300/4*2.34, 270/4*2.35] #Gaussian 4sigma -> FWHM\n",
    "#metadata['instrument']['beam']['pump']['fluence'] = 1.00\n",
    "#metadata['instrument']['beam']['pump']['delay'] = 0.02\n",
    "\n",
    "#sample\n",
    "metadata['sample']={}\n",
    "#metadata['sample']['preparation_date'] = '2017-03-19T10:00:00+00:00'\n",
    "#metadata['sample']['preparation_description'] = 'Cleaved'\n",
    "#metadata['sample']['sample_history'] = 'Cleaved in UHV'\n",
    "#metadata['sample']['chemical_formula'] = 'TbTe3'\n",
    "#metadata['sample']['description'] = 'cleaved single crystal of TbTe3'\n",
    "metadata['sample']['name'] = 'TbTe3 Single Crystal'\n",
    "\"\"\" and None"
   ]
  },
  {
   "cell_type": "code",
   "execution_count": null,
   "metadata": {
    "tags": []
   },
   "outputs": [],
   "source": [
    "sps = SpecsScan(system_config=\"../config.yaml\")"
   ]
  },
  {
   "cell_type": "markdown",
   "metadata": {},
   "source": [
    "### Check scan for sample degradation\n",
    "Enable the following cell to inspect the scan"
   ]
  },
  {
   "cell_type": "code",
   "execution_count": null,
   "metadata": {},
   "outputs": [],
   "source": [
    "\"\"\"\n",
    "res_check = sps.check_scan(\n",
    "    scan=scan,\n",
    "    delays=0, # for a fixed delay of index 0\n",
    ")\n",
    "# Some plots\n",
    "fig, axs = plt.subplots(1, 3, figsize=(8, 2.5), constrained_layout=True)\n",
    "res_check.loc[{'Angle':slice(-5, 5)}].sum(axis=(0)).plot(ax=axs[0])\n",
    "res_check[:,:,0].T.plot(ax=axs[1])\n",
    "res_check[:,:,-1].T.plot(ax=axs[2])\n",
    "\"\"\" and None"
   ]
  },
  {
   "cell_type": "markdown",
   "metadata": {},
   "source": [
    "### Convert scan\n",
    "The load_scan method loads the scan as an xarray along with the metadata needed for nexus conversion. The progress bars can be activated by changing the config parameter, enable_nested_progress_bar, to true in config.yaml "
   ]
  },
  {
   "cell_type": "code",
   "execution_count": null,
   "metadata": {
    "tags": []
   },
   "outputs": [],
   "source": [
    "res = sps.load_scan(\n",
    "    scan=scan,\n",
    "    metadata=metadata,\n",
    "    collect_metadata=True,\n",
    "    # iterations=[0, 3, 6],\n",
    ")"
   ]
  },
  {
   "cell_type": "markdown",
   "metadata": {},
   "source": [
    "### Save scan to NeXus"
   ]
  },
  {
   "cell_type": "code",
   "execution_count": null,
   "metadata": {},
   "outputs": [],
   "source": [
    "sps.save(f\"Scan{scan}.nxs\")"
   ]
  },
  {
   "cell_type": "markdown",
   "metadata": {},
   "source": [
    "### Plots"
   ]
  },
  {
   "cell_type": "code",
   "execution_count": null,
   "metadata": {
    "tags": []
   },
   "outputs": [],
   "source": [
    "# Some plots\n",
    "fig, axs = plt.subplots(3, 1, figsize=(6, 10), constrained_layout=True)\n",
    "res.sum(axis=(2)).T.plot(ax=axs[0])\n",
    "res.sum(axis=(0)).T.plot(ax=axs[1])\n",
    "res.sum(axis=(1)).T.plot(ax=axs[2])\n",
    "plt.show()"
   ]
  }
 ],
 "metadata": {
  "kernelspec": {
   "display_name": ".venv",
   "language": "python",
   "name": "python3"
  },
  "language_info": {
   "codemirror_mode": {
    "name": "ipython",
    "version": 3
   },
   "file_extension": ".py",
   "mimetype": "text/x-python",
   "name": "python",
   "nbconvert_exporter": "python",
   "pygments_lexer": "ipython3",
   "version": "3.10.16"
  }
 },
 "nbformat": 4,
 "nbformat_minor": 4
}
