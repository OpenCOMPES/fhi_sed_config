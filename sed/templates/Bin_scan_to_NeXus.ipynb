{
 "cells": [
  {
   "cell_type": "markdown",
   "id": "b029c523-ee88-487c-9e3b-e75cf7e5dbcd",
   "metadata": {},
   "source": [
    "# <font color='red'>DO NOT MODIFY THIS FILE! MAKE A COPY</font>"
   ]
  },
  {
   "cell_type": "markdown",
   "id": "8ad4167a-e4e7-498d-909a-c04da9f177ed",
   "metadata": {
    "tags": []
   },
   "source": [
    "# Binning from stored calibration settings and storing into a NeXus file\n",
    "In this template, we use conversion parameters generated in another template, and use them to bin a scan into a nexus file."
   ]
  },
  {
   "cell_type": "code",
   "execution_count": null,
   "id": "fb045e17-fa89-4c11-9d51-7f06e80d96d5",
   "metadata": {
    "tags": []
   },
   "outputs": [],
   "source": [
    "%load_ext autoreload\n",
    "%autoreload 2\n",
    "import numpy as np\n",
    "import matplotlib.pyplot as plt\n",
    "import os\n",
    "\n",
    "import sed\n",
    "\n",
    "%matplotlib widget"
   ]
  },
  {
   "cell_type": "markdown",
   "id": "42a6afaa-17dd-4637-ba75-a28c4ead1adf",
   "metadata": {},
   "source": [
    "# Load Data"
   ]
  },
  {
   "cell_type": "code",
   "execution_count": null,
   "id": "34f46d54",
   "metadata": {
    "tags": []
   },
   "outputs": [],
   "source": [
    "# Path to the day folder containing the scan\n",
    "data_path = \"/mnt/pcshare/2025/2025_01/2025_01_09\"\n",
    "# the run to load for calibration\n",
    "run = 664"
   ]
  },
  {
   "cell_type": "code",
   "execution_count": null,
   "id": "4e202cb2-25ac-46c3-9f77-cb729f5edd1d",
   "metadata": {},
   "outputs": [],
   "source": [
    "# Define an override config\n",
    "config = {}\n",
    "# Uncomment this line for data pre ~2020\n",
    "# config = {\"dataframe\": {\"tof_binning\": 4, \"adc_binning\": 4}}\n",
    "# Uncomment this line for data pre ~2024\n",
    "# config = {\"dataframe\": {\"tof_binning\": 2, \"adc_binning\": 4}}"
   ]
  },
  {
   "cell_type": "code",
   "execution_count": null,
   "id": "23effa13",
   "metadata": {
    "tags": []
   },
   "outputs": [],
   "source": [
    "metadata = {}\n",
    "# Here, manual metadata can be added. Alternatively, they can come from an Electronic Lab Notebook below.\n",
    "# Uncomment for adding manual Metadata (delete \"\"\"-lines)\n",
    "\"\"\"\n",
    "#General\n",
    "metadata['experiment_summary'] = ''\n",
    "metadata['entry_title'] = ''\n",
    "metadata['experiment_title'] = ''\n",
    "\n",
    "#User\n",
    "# Fill general parameters of NXuser\n",
    "metadata['user0'] = {}\n",
    "metadata['user0']['name'] = ''\n",
    "metadata['user0']['role'] = 'Principal Investigator'\n",
    "metadata['user0']['affiliation'] = 'Fritz Haber Institute of the Max Planck Society'\n",
    "metadata['user0']['address'] = 'Faradayweg 4-6, 14195 Berlin'\n",
    "metadata['user0']['email'] = '@fhi-berlin.mpg.de'\n",
    "\n",
    "#NXinstrument\n",
    "metadata['instrument'] = {}\n",
    "#analyzer\n",
    "metadata['instrument']['analyzer']={}\n",
    "metadata['instrument']['analyzer']['slow_axes'] = \"\" # the scanned axes\n",
    "metadata['instrument']['analyzer']['spatial_resolution'] = 10.\n",
    "metadata['instrument']['analyzer']['energy_resolution'] = 110.\n",
    "metadata['instrument']['analyzer']['momentum_resolution'] = 0.08\n",
    "metadata['instrument']['analyzer']['working_distance'] = 4.\n",
    "\n",
    "#probe beam\n",
    "metadata['instrument']['beam']={}\n",
    "metadata['instrument']['beam']['probe']={}\n",
    "metadata['instrument']['beam']['probe']['incident_energy'] = 21.7\n",
    "metadata['instrument']['beam']['probe']['incident_energy_spread'] = 0.04\n",
    "metadata['instrument']['beam']['probe']['pulse_duration'] = 80.\n",
    "metadata['instrument']['beam']['probe']['frequency'] = 475.\n",
    "metadata['instrument']['beam']['probe']['incident_polarization'] = [1, 1, 0, 0] # p pol Stokes vector\n",
    "metadata['instrument']['beam']['probe']['extent'] = [80., 80.] \n",
    "#pump beam\n",
    "#metadata['instrument']['beam']['pump']={}\n",
    "#metadata['instrument']['beam']['pump']['incident_energy'] = 1.55\n",
    "#metadata['instrument']['beam']['pump']['incident_energy_spread'] = 0.08\n",
    "#metadata['instrument']['beam']['pump']['pulse_duration'] = 35.\n",
    "#metadata['instrument']['beam']['pump']['frequency'] = 475.\n",
    "#metadata['instrument']['beam']['pump']['incident_polarization'] = [1, -1, 0, 0] # s pol Stokes vector\n",
    "#metadata['instrument']['beam']['pump']['incident_wavelength'] = 800. \n",
    "#metadata['instrument']['beam']['pump']['average_power'] = 300.\n",
    "#metadata['instrument']['beam']['pump']['pulse_energy'] = metadata['instrument']['beam']['pump']['average_power']/metadata['instrument']['beam']['pump']['frequency']#µJ\n",
    "#metadata['instrument']['beam']['pump']['extent'] = [230., 265.] \n",
    "#metadata['instrument']['beam']['pump']['fluence'] = 0.15\n",
    "\n",
    "#sample\n",
    "metadata['sample']={}\n",
    "metadata['sample']['preparation_date'] = ''\n",
    "metadata['sample']['preparation_description'] = 'Cleaved'\n",
    "metadata['sample']['sample_history'] = ''\n",
    "metadata['sample']['chemical_formula'] = ''\n",
    "metadata['sample']['description'] = ''\n",
    "metadata['sample']['name'] = ''\n",
    "\"\"\" and None"
   ]
  },
  {
   "cell_type": "code",
   "execution_count": null,
   "id": "f1f82054",
   "metadata": {
    "tags": []
   },
   "outputs": [],
   "source": [
    "# create sed processor using the config file, and collect the meta data from the files:\n",
    "sp = sed.SedProcessor(folder=data_path, system_config=\"../config.yaml\", runs=run, metadata=metadata, collect_metadata=True, verbose=True)\n",
    "sp.add_jitter()"
   ]
  },
  {
   "cell_type": "markdown",
   "id": "966aa225-236d-43e8-8400-5a341468084e",
   "metadata": {},
   "source": [
    "## Pose adjustment\n",
    "Execute these cells if you want to perform manual pose adjustment"
   ]
  },
  {
   "cell_type": "code",
   "execution_count": null,
   "id": "17586169",
   "metadata": {
    "tags": []
   },
   "outputs": [],
   "source": [
    "# Calculate machine-coordinate data for pose adjustment\n",
    "sp.bin_and_load_momentum_calibration(df_partitions=20, plane=145, width=5)"
   ]
  },
  {
   "cell_type": "code",
   "execution_count": null,
   "id": "b99629a5",
   "metadata": {
    "tags": []
   },
   "outputs": [],
   "source": [
    "# Adjust pose alignment, using stored distortion correction\n",
    "# Carefully check the reported date of creation, and make sure you are using the right correction\n",
    "sp.pose_adjustment(use_correction=True)\n",
    "# Uncomment to use stored transformation parameters\n",
    "# sp.pose_adjustment(use_correction=True, apply=True)"
   ]
  },
  {
   "cell_type": "code",
   "execution_count": null,
   "id": "845f002d",
   "metadata": {
    "tags": []
   },
   "outputs": [],
   "source": [
    "# Apply stored momentum correction\n",
    "sp.apply_momentum_correction()"
   ]
  },
  {
   "cell_type": "code",
   "execution_count": null,
   "id": "f9ae5066",
   "metadata": {
    "tags": []
   },
   "outputs": [],
   "source": [
    "# Apply stored config momentum calibration\n",
    "# Carefully check the reported creation data and make sure you are using the right calibration parameters\n",
    "sp.apply_momentum_calibration()"
   ]
  },
  {
   "cell_type": "code",
   "execution_count": null,
   "id": "eb1e2bee",
   "metadata": {
    "tags": []
   },
   "outputs": [],
   "source": [
    "# Apply stored config energy correction\n",
    "# Carefully check the reported creation data and make sure you are using the right correction parameters\n",
    "sp.apply_energy_correction()"
   ]
  },
  {
   "cell_type": "code",
   "execution_count": null,
   "id": "c470ffd9",
   "metadata": {
    "tags": []
   },
   "outputs": [],
   "source": [
    "# Apply stored config energy calibration\n",
    "# Carefully check the reported creation data and make sure you are using the right calibration parameters\n",
    "sp.append_energy_axis()"
   ]
  },
  {
   "cell_type": "code",
   "execution_count": null,
   "id": "0943d349",
   "metadata": {
    "tags": []
   },
   "outputs": [],
   "source": [
    "# Apply stored delay calibration, or parameters from the file\n",
    "delay_range = sp.calibrate_delay_axis(preview=True)"
   ]
  },
  {
   "cell_type": "markdown",
   "id": "6902fd56-1456-4da6-83a4-0f3f6b831eb6",
   "metadata": {},
   "source": [
    "# Compute final data volume"
   ]
  },
  {
   "cell_type": "code",
   "execution_count": null,
   "id": "a7601cd7-cd51-40a9-8fc7-8b7d32ff15d0",
   "metadata": {
    "tags": []
   },
   "outputs": [],
   "source": [
    "axes = ['kx', 'ky', 'energy', 'delay']\n",
    "bins = [200, 200, 400, 100]\n",
    "ranges = [[-2, 2], [-2, 2], [-3, 2], delay_range]\n",
    "res = sp.compute(bins=bins, axes=axes, ranges=ranges, normalize_to_acquisition_time=\"delay\")"
   ]
  },
  {
   "cell_type": "code",
   "execution_count": null,
   "id": "44fece87",
   "metadata": {
    "tags": []
   },
   "outputs": [],
   "source": [
    "# save to NXmpes NeXus (including standardized metadata)\n",
    "eln_data = f\"Scan{run}.yaml\"\n",
    "save_path = f\"Scan{run}_binned.nxs\"\n",
    "if os.path.isfile(eln_data):\n",
    "    sp.save(save_path, eln_data=eln_data)\n",
    "else:\n",
    "    sp.save(save_path)"
   ]
  },
  {
   "cell_type": "code",
   "execution_count": null,
   "id": "7cc943d9",
   "metadata": {},
   "outputs": [],
   "source": []
  },
  {
   "cell_type": "code",
   "execution_count": null,
   "id": "3073b9ba",
   "metadata": {
    "tags": []
   },
   "outputs": [],
   "source": [
    "# Visualization (requires JupyterLab)\n",
    "from jupyterlab_h5web import H5Web\n",
    "H5Web(save_path)"
   ]
  },
  {
   "cell_type": "code",
   "execution_count": null,
   "id": "ba5da06b",
   "metadata": {},
   "outputs": [],
   "source": []
  }
 ],
 "metadata": {
  "kernelspec": {
   "display_name": ".venv",
   "language": "python",
   "name": "python3"
  },
  "language_info": {
   "codemirror_mode": {
    "name": "ipython",
    "version": 3
   },
   "file_extension": ".py",
   "mimetype": "text/x-python",
   "name": "python",
   "nbconvert_exporter": "python",
   "pygments_lexer": "ipython3",
   "version": "3.10.16"
  }
 },
 "nbformat": 4,
 "nbformat_minor": 5
}
